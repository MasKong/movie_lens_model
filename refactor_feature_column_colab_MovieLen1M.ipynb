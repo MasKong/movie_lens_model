{
  "nbformat": 4,
  "nbformat_minor": 0,
  "metadata": {
    "colab": {
      "name": "refactor_feature_column_colab_MovieLen1M",
      "provenance": [],
      "collapsed_sections": []
    },
    "kernelspec": {
      "display_name": "Python 3",
      "language": "python",
      "name": "python3"
    },
    "language_info": {
      "codemirror_mode": {
        "name": "ipython",
        "version": 3
      },
      "file_extension": ".py",
      "mimetype": "text/x-python",
      "name": "python",
      "nbconvert_exporter": "python",
      "pygments_lexer": "ipython3",
      "version": "3.6.5"
    },
    "accelerator": "GPU"
  },
  "cells": [
    {
      "cell_type": "markdown",
      "metadata": {
        "id": "rtox72csOQUN"
      },
      "source": [
        "# DeepMatch 样例代码\n",
        "- https://github.com/shenweichen/DeepMatch\n",
        "- https://deepmatch.readthedocs.io/en/latest/"
      ]
    },
    {
      "cell_type": "markdown",
      "metadata": {
        "id": "bTWHz-heMkyw"
      },
      "source": [
        "# 下载movielens-1M数据 安装依赖包"
      ]
    },
    {
      "cell_type": "code",
      "metadata": {
        "colab": {
          "base_uri": "https://localhost:8080/"
        },
        "id": "yTl6d6jO1oqf",
        "outputId": "b631be92-81ff-452f-a1cf-4ae060c95e66"
      },
      "source": [
        "! wget http://files.grouplens.org/datasets/movielens/ml-1m.zip -O ./ml-1m.zip \n",
        "! wget https://raw.githubusercontent.com/shenweichen/DeepMatch/master/examples/preprocess.py -O preprocess.py\n",
        "! unzip -o ml-1m.zip \n",
        "! pip install -q deepmatch"
      ],
      "execution_count": 1,
      "outputs": [
        {
          "output_type": "stream",
          "text": [
            "--2021-07-04 12:57:19--  http://files.grouplens.org/datasets/movielens/ml-1m.zip\n",
            "Resolving files.grouplens.org (files.grouplens.org)... 128.101.65.152\n",
            "Connecting to files.grouplens.org (files.grouplens.org)|128.101.65.152|:80... connected.\n",
            "HTTP request sent, awaiting response... 200 OK\n",
            "Length: 5917549 (5.6M) [application/zip]\n",
            "Saving to: ‘./ml-1m.zip’\n",
            "\n",
            "./ml-1m.zip         100%[===================>]   5.64M  27.8MB/s    in 0.2s    \n",
            "\n",
            "2021-07-04 12:57:19 (27.8 MB/s) - ‘./ml-1m.zip’ saved [5917549/5917549]\n",
            "\n",
            "--2021-07-04 12:57:19--  https://raw.githubusercontent.com/shenweichen/DeepMatch/master/examples/preprocess.py\n",
            "Resolving raw.githubusercontent.com (raw.githubusercontent.com)... 185.199.111.133, 185.199.108.133, 185.199.110.133, ...\n",
            "Connecting to raw.githubusercontent.com (raw.githubusercontent.com)|185.199.111.133|:443... connected.\n",
            "HTTP request sent, awaiting response... 200 OK\n",
            "Length: 5642 (5.5K) [text/plain]\n",
            "Saving to: ‘preprocess.py’\n",
            "\n",
            "preprocess.py       100%[===================>]   5.51K  --.-KB/s    in 0s      \n",
            "\n",
            "2021-07-04 12:57:19 (72.4 MB/s) - ‘preprocess.py’ saved [5642/5642]\n",
            "\n",
            "Archive:  ml-1m.zip\n",
            "   creating: ml-1m/\n",
            "  inflating: ml-1m/movies.dat        \n",
            "  inflating: ml-1m/ratings.dat       \n",
            "  inflating: ml-1m/README            \n",
            "  inflating: ml-1m/users.dat         \n",
            "\u001b[K     |████████████████████████████████| 112kB 41.5MB/s \n",
            "\u001b[?25h"
          ],
          "name": "stdout"
        }
      ]
    },
    {
      "cell_type": "markdown",
      "metadata": {
        "id": "p9UxNHuPMuW2"
      },
      "source": [
        "# 导入需要的库"
      ]
    },
    {
      "cell_type": "code",
      "metadata": {
        "colab": {
          "base_uri": "https://localhost:8080/"
        },
        "id": "JhYO7XJeNpZT",
        "outputId": "1403c23b-dd79-4adc-ae7b-7c28d2b50590"
      },
      "source": [
        "! pip install tensorflow-gpu\n",
        "! pip install tensorflow\n"
      ],
      "execution_count": 2,
      "outputs": [
        {
          "output_type": "stream",
          "text": [
            "Collecting tensorflow-gpu\n",
            "\u001b[?25l  Downloading https://files.pythonhosted.org/packages/1d/a2/5ccf0a418eb22e0a2ae9edc1e7f5456d0a4b8b49524572897564b4030a9b/tensorflow_gpu-2.5.0-cp37-cp37m-manylinux2010_x86_64.whl (454.3MB)\n",
            "\u001b[K     |████████████████████████████████| 454.3MB 38kB/s \n",
            "\u001b[?25hRequirement already satisfied: numpy~=1.19.2 in /usr/local/lib/python3.7/dist-packages (from tensorflow-gpu) (1.19.5)\n",
            "Requirement already satisfied: flatbuffers~=1.12.0 in /usr/local/lib/python3.7/dist-packages (from tensorflow-gpu) (1.12)\n",
            "Requirement already satisfied: astunparse~=1.6.3 in /usr/local/lib/python3.7/dist-packages (from tensorflow-gpu) (1.6.3)\n",
            "Requirement already satisfied: absl-py~=0.10 in /usr/local/lib/python3.7/dist-packages (from tensorflow-gpu) (0.12.0)\n",
            "Requirement already satisfied: wrapt~=1.12.1 in /usr/local/lib/python3.7/dist-packages (from tensorflow-gpu) (1.12.1)\n",
            "Requirement already satisfied: protobuf>=3.9.2 in /usr/local/lib/python3.7/dist-packages (from tensorflow-gpu) (3.12.4)\n",
            "Requirement already satisfied: opt-einsum~=3.3.0 in /usr/local/lib/python3.7/dist-packages (from tensorflow-gpu) (3.3.0)\n",
            "Requirement already satisfied: h5py~=3.1.0 in /usr/local/lib/python3.7/dist-packages (from tensorflow-gpu) (3.1.0)\n",
            "Requirement already satisfied: wheel~=0.35 in /usr/local/lib/python3.7/dist-packages (from tensorflow-gpu) (0.36.2)\n",
            "Requirement already satisfied: gast==0.4.0 in /usr/local/lib/python3.7/dist-packages (from tensorflow-gpu) (0.4.0)\n",
            "Requirement already satisfied: keras-preprocessing~=1.1.2 in /usr/local/lib/python3.7/dist-packages (from tensorflow-gpu) (1.1.2)\n",
            "Requirement already satisfied: six~=1.15.0 in /usr/local/lib/python3.7/dist-packages (from tensorflow-gpu) (1.15.0)\n",
            "Requirement already satisfied: grpcio~=1.34.0 in /usr/local/lib/python3.7/dist-packages (from tensorflow-gpu) (1.34.1)\n",
            "Requirement already satisfied: google-pasta~=0.2 in /usr/local/lib/python3.7/dist-packages (from tensorflow-gpu) (0.2.0)\n",
            "Requirement already satisfied: typing-extensions~=3.7.4 in /usr/local/lib/python3.7/dist-packages (from tensorflow-gpu) (3.7.4.3)\n",
            "Requirement already satisfied: termcolor~=1.1.0 in /usr/local/lib/python3.7/dist-packages (from tensorflow-gpu) (1.1.0)\n",
            "Requirement already satisfied: keras-nightly~=2.5.0.dev in /usr/local/lib/python3.7/dist-packages (from tensorflow-gpu) (2.5.0.dev2021032900)\n",
            "Requirement already satisfied: tensorboard~=2.5 in /usr/local/lib/python3.7/dist-packages (from tensorflow-gpu) (2.5.0)\n",
            "Requirement already satisfied: tensorflow-estimator<2.6.0,>=2.5.0rc0 in /usr/local/lib/python3.7/dist-packages (from tensorflow-gpu) (2.5.0)\n",
            "Requirement already satisfied: setuptools in /usr/local/lib/python3.7/dist-packages (from protobuf>=3.9.2->tensorflow-gpu) (57.0.0)\n",
            "Requirement already satisfied: cached-property; python_version < \"3.8\" in /usr/local/lib/python3.7/dist-packages (from h5py~=3.1.0->tensorflow-gpu) (1.5.2)\n",
            "Requirement already satisfied: google-auth-oauthlib<0.5,>=0.4.1 in /usr/local/lib/python3.7/dist-packages (from tensorboard~=2.5->tensorflow-gpu) (0.4.4)\n",
            "Requirement already satisfied: werkzeug>=0.11.15 in /usr/local/lib/python3.7/dist-packages (from tensorboard~=2.5->tensorflow-gpu) (1.0.1)\n",
            "Requirement already satisfied: tensorboard-data-server<0.7.0,>=0.6.0 in /usr/local/lib/python3.7/dist-packages (from tensorboard~=2.5->tensorflow-gpu) (0.6.1)\n",
            "Requirement already satisfied: markdown>=2.6.8 in /usr/local/lib/python3.7/dist-packages (from tensorboard~=2.5->tensorflow-gpu) (3.3.4)\n",
            "Requirement already satisfied: google-auth<2,>=1.6.3 in /usr/local/lib/python3.7/dist-packages (from tensorboard~=2.5->tensorflow-gpu) (1.31.0)\n",
            "Requirement already satisfied: requests<3,>=2.21.0 in /usr/local/lib/python3.7/dist-packages (from tensorboard~=2.5->tensorflow-gpu) (2.23.0)\n",
            "Requirement already satisfied: tensorboard-plugin-wit>=1.6.0 in /usr/local/lib/python3.7/dist-packages (from tensorboard~=2.5->tensorflow-gpu) (1.8.0)\n",
            "Requirement already satisfied: requests-oauthlib>=0.7.0 in /usr/local/lib/python3.7/dist-packages (from google-auth-oauthlib<0.5,>=0.4.1->tensorboard~=2.5->tensorflow-gpu) (1.3.0)\n",
            "Requirement already satisfied: importlib-metadata; python_version < \"3.8\" in /usr/local/lib/python3.7/dist-packages (from markdown>=2.6.8->tensorboard~=2.5->tensorflow-gpu) (4.5.0)\n",
            "Requirement already satisfied: cachetools<5.0,>=2.0.0 in /usr/local/lib/python3.7/dist-packages (from google-auth<2,>=1.6.3->tensorboard~=2.5->tensorflow-gpu) (4.2.2)\n",
            "Requirement already satisfied: rsa<5,>=3.1.4; python_version >= \"3.6\" in /usr/local/lib/python3.7/dist-packages (from google-auth<2,>=1.6.3->tensorboard~=2.5->tensorflow-gpu) (4.7.2)\n",
            "Requirement already satisfied: pyasn1-modules>=0.2.1 in /usr/local/lib/python3.7/dist-packages (from google-auth<2,>=1.6.3->tensorboard~=2.5->tensorflow-gpu) (0.2.8)\n",
            "Requirement already satisfied: chardet<4,>=3.0.2 in /usr/local/lib/python3.7/dist-packages (from requests<3,>=2.21.0->tensorboard~=2.5->tensorflow-gpu) (3.0.4)\n",
            "Requirement already satisfied: certifi>=2017.4.17 in /usr/local/lib/python3.7/dist-packages (from requests<3,>=2.21.0->tensorboard~=2.5->tensorflow-gpu) (2021.5.30)\n",
            "Requirement already satisfied: idna<3,>=2.5 in /usr/local/lib/python3.7/dist-packages (from requests<3,>=2.21.0->tensorboard~=2.5->tensorflow-gpu) (2.10)\n",
            "Requirement already satisfied: urllib3!=1.25.0,!=1.25.1,<1.26,>=1.21.1 in /usr/local/lib/python3.7/dist-packages (from requests<3,>=2.21.0->tensorboard~=2.5->tensorflow-gpu) (1.24.3)\n",
            "Requirement already satisfied: oauthlib>=3.0.0 in /usr/local/lib/python3.7/dist-packages (from requests-oauthlib>=0.7.0->google-auth-oauthlib<0.5,>=0.4.1->tensorboard~=2.5->tensorflow-gpu) (3.1.1)\n",
            "Requirement already satisfied: zipp>=0.5 in /usr/local/lib/python3.7/dist-packages (from importlib-metadata; python_version < \"3.8\"->markdown>=2.6.8->tensorboard~=2.5->tensorflow-gpu) (3.4.1)\n",
            "Requirement already satisfied: pyasn1>=0.1.3 in /usr/local/lib/python3.7/dist-packages (from rsa<5,>=3.1.4; python_version >= \"3.6\"->google-auth<2,>=1.6.3->tensorboard~=2.5->tensorflow-gpu) (0.4.8)\n",
            "Installing collected packages: tensorflow-gpu\n",
            "Successfully installed tensorflow-gpu-2.5.0\n",
            "Requirement already satisfied: tensorflow in /usr/local/lib/python3.7/dist-packages (2.5.0)\n",
            "Requirement already satisfied: keras-preprocessing~=1.1.2 in /usr/local/lib/python3.7/dist-packages (from tensorflow) (1.1.2)\n",
            "Requirement already satisfied: wrapt~=1.12.1 in /usr/local/lib/python3.7/dist-packages (from tensorflow) (1.12.1)\n",
            "Requirement already satisfied: numpy~=1.19.2 in /usr/local/lib/python3.7/dist-packages (from tensorflow) (1.19.5)\n",
            "Requirement already satisfied: astunparse~=1.6.3 in /usr/local/lib/python3.7/dist-packages (from tensorflow) (1.6.3)\n",
            "Requirement already satisfied: flatbuffers~=1.12.0 in /usr/local/lib/python3.7/dist-packages (from tensorflow) (1.12)\n",
            "Requirement already satisfied: tensorflow-estimator<2.6.0,>=2.5.0rc0 in /usr/local/lib/python3.7/dist-packages (from tensorflow) (2.5.0)\n",
            "Requirement already satisfied: six~=1.15.0 in /usr/local/lib/python3.7/dist-packages (from tensorflow) (1.15.0)\n",
            "Requirement already satisfied: protobuf>=3.9.2 in /usr/local/lib/python3.7/dist-packages (from tensorflow) (3.12.4)\n",
            "Requirement already satisfied: grpcio~=1.34.0 in /usr/local/lib/python3.7/dist-packages (from tensorflow) (1.34.1)\n",
            "Requirement already satisfied: h5py~=3.1.0 in /usr/local/lib/python3.7/dist-packages (from tensorflow) (3.1.0)\n",
            "Requirement already satisfied: gast==0.4.0 in /usr/local/lib/python3.7/dist-packages (from tensorflow) (0.4.0)\n",
            "Requirement already satisfied: termcolor~=1.1.0 in /usr/local/lib/python3.7/dist-packages (from tensorflow) (1.1.0)\n",
            "Requirement already satisfied: wheel~=0.35 in /usr/local/lib/python3.7/dist-packages (from tensorflow) (0.36.2)\n",
            "Requirement already satisfied: keras-nightly~=2.5.0.dev in /usr/local/lib/python3.7/dist-packages (from tensorflow) (2.5.0.dev2021032900)\n",
            "Requirement already satisfied: tensorboard~=2.5 in /usr/local/lib/python3.7/dist-packages (from tensorflow) (2.5.0)\n",
            "Requirement already satisfied: opt-einsum~=3.3.0 in /usr/local/lib/python3.7/dist-packages (from tensorflow) (3.3.0)\n",
            "Requirement already satisfied: google-pasta~=0.2 in /usr/local/lib/python3.7/dist-packages (from tensorflow) (0.2.0)\n",
            "Requirement already satisfied: absl-py~=0.10 in /usr/local/lib/python3.7/dist-packages (from tensorflow) (0.12.0)\n",
            "Requirement already satisfied: typing-extensions~=3.7.4 in /usr/local/lib/python3.7/dist-packages (from tensorflow) (3.7.4.3)\n",
            "Requirement already satisfied: setuptools in /usr/local/lib/python3.7/dist-packages (from protobuf>=3.9.2->tensorflow) (57.0.0)\n",
            "Requirement already satisfied: cached-property; python_version < \"3.8\" in /usr/local/lib/python3.7/dist-packages (from h5py~=3.1.0->tensorflow) (1.5.2)\n",
            "Requirement already satisfied: markdown>=2.6.8 in /usr/local/lib/python3.7/dist-packages (from tensorboard~=2.5->tensorflow) (3.3.4)\n",
            "Requirement already satisfied: google-auth<2,>=1.6.3 in /usr/local/lib/python3.7/dist-packages (from tensorboard~=2.5->tensorflow) (1.31.0)\n",
            "Requirement already satisfied: werkzeug>=0.11.15 in /usr/local/lib/python3.7/dist-packages (from tensorboard~=2.5->tensorflow) (1.0.1)\n",
            "Requirement already satisfied: tensorboard-data-server<0.7.0,>=0.6.0 in /usr/local/lib/python3.7/dist-packages (from tensorboard~=2.5->tensorflow) (0.6.1)\n",
            "Requirement already satisfied: google-auth-oauthlib<0.5,>=0.4.1 in /usr/local/lib/python3.7/dist-packages (from tensorboard~=2.5->tensorflow) (0.4.4)\n",
            "Requirement already satisfied: requests<3,>=2.21.0 in /usr/local/lib/python3.7/dist-packages (from tensorboard~=2.5->tensorflow) (2.23.0)\n",
            "Requirement already satisfied: tensorboard-plugin-wit>=1.6.0 in /usr/local/lib/python3.7/dist-packages (from tensorboard~=2.5->tensorflow) (1.8.0)\n",
            "Requirement already satisfied: importlib-metadata; python_version < \"3.8\" in /usr/local/lib/python3.7/dist-packages (from markdown>=2.6.8->tensorboard~=2.5->tensorflow) (4.5.0)\n",
            "Requirement already satisfied: rsa<5,>=3.1.4; python_version >= \"3.6\" in /usr/local/lib/python3.7/dist-packages (from google-auth<2,>=1.6.3->tensorboard~=2.5->tensorflow) (4.7.2)\n",
            "Requirement already satisfied: cachetools<5.0,>=2.0.0 in /usr/local/lib/python3.7/dist-packages (from google-auth<2,>=1.6.3->tensorboard~=2.5->tensorflow) (4.2.2)\n",
            "Requirement already satisfied: pyasn1-modules>=0.2.1 in /usr/local/lib/python3.7/dist-packages (from google-auth<2,>=1.6.3->tensorboard~=2.5->tensorflow) (0.2.8)\n",
            "Requirement already satisfied: requests-oauthlib>=0.7.0 in /usr/local/lib/python3.7/dist-packages (from google-auth-oauthlib<0.5,>=0.4.1->tensorboard~=2.5->tensorflow) (1.3.0)\n",
            "Requirement already satisfied: idna<3,>=2.5 in /usr/local/lib/python3.7/dist-packages (from requests<3,>=2.21.0->tensorboard~=2.5->tensorflow) (2.10)\n",
            "Requirement already satisfied: urllib3!=1.25.0,!=1.25.1,<1.26,>=1.21.1 in /usr/local/lib/python3.7/dist-packages (from requests<3,>=2.21.0->tensorboard~=2.5->tensorflow) (1.24.3)\n",
            "Requirement already satisfied: certifi>=2017.4.17 in /usr/local/lib/python3.7/dist-packages (from requests<3,>=2.21.0->tensorboard~=2.5->tensorflow) (2021.5.30)\n",
            "Requirement already satisfied: chardet<4,>=3.0.2 in /usr/local/lib/python3.7/dist-packages (from requests<3,>=2.21.0->tensorboard~=2.5->tensorflow) (3.0.4)\n",
            "Requirement already satisfied: zipp>=0.5 in /usr/local/lib/python3.7/dist-packages (from importlib-metadata; python_version < \"3.8\"->markdown>=2.6.8->tensorboard~=2.5->tensorflow) (3.4.1)\n",
            "Requirement already satisfied: pyasn1>=0.1.3 in /usr/local/lib/python3.7/dist-packages (from rsa<5,>=3.1.4; python_version >= \"3.6\"->google-auth<2,>=1.6.3->tensorboard~=2.5->tensorflow) (0.4.8)\n",
            "Requirement already satisfied: oauthlib>=3.0.0 in /usr/local/lib/python3.7/dist-packages (from requests-oauthlib>=0.7.0->google-auth-oauthlib<0.5,>=0.4.1->tensorboard~=2.5->tensorflow) (3.1.1)\n"
          ],
          "name": "stdout"
        }
      ]
    },
    {
      "cell_type": "code",
      "metadata": {
        "id": "C_ZR6gzp1E2N",
        "colab": {
          "base_uri": "https://localhost:8080/"
        },
        "outputId": "3e367198-0b23-4745-94d6-95c294173368"
      },
      "source": [
        "import pandas as pd\n",
        "\n",
        "from deepctr.feature_column import SparseFeat, VarLenSparseFeat\n",
        "from preprocess import gen_data_set, gen_model_input\n",
        "from sklearn.preprocessing import LabelEncoder\n",
        "from tensorflow.python.keras import backend as K\n",
        "from tensorflow.python.keras.models import Model\n",
        "\n",
        "from deepmatch.models import *\n",
        "from deepmatch.utils import sampledsoftmaxloss\n"
      ],
      "execution_count": 3,
      "outputs": [
        {
          "output_type": "stream",
          "text": [
            "WARNING:root:\n",
            "DeepCTR version 0.8.6 detected. Your version is 0.8.2.\n",
            "Use `pip install -U deepctr` to upgrade.Changelog: https://github.com/shenweichen/DeepCTR/releases/tag/v0.8.6\n"
          ],
          "name": "stderr"
        }
      ]
    },
    {
      "cell_type": "markdown",
      "metadata": {
        "id": "fQq6O9XAMzPF"
      },
      "source": [
        "# 读取数据"
      ]
    },
    {
      "cell_type": "code",
      "metadata": {
        "colab": {
          "base_uri": "https://localhost:8080/"
        },
        "id": "lcO29zFb21Od",
        "outputId": "70633815-47f0-47eb-a470-06e135d4aa41"
      },
      "source": [
        "data_path = \"./\"\n",
        "\n",
        "unames = ['user_id','gender','age','occupation','zip']\n",
        "user = pd.read_csv(data_path+'ml-1m/users.dat',sep='::',header=None,names=unames)\n",
        "rnames = ['user_id','movie_id','rating','timestamp']\n",
        "ratings = pd.read_csv(data_path+'ml-1m/ratings.dat',sep='::',header=None,names=rnames)\n",
        "mnames = ['movie_id','title','genres']\n",
        "movies = pd.read_csv(data_path+'ml-1m/movies.dat',sep='::',header=None,names=mnames)\n",
        "\n",
        "data = pd.merge(pd.merge(ratings,movies),user)#.iloc[:10000]\n"
      ],
      "execution_count": 4,
      "outputs": [
        {
          "output_type": "stream",
          "text": [
            "/usr/local/lib/python3.7/dist-packages/ipykernel_launcher.py:4: ParserWarning: Falling back to the 'python' engine because the 'c' engine does not support regex separators (separators > 1 char and different from '\\s+' are interpreted as regex); you can avoid this warning by specifying engine='python'.\n",
            "  after removing the cwd from sys.path.\n",
            "/usr/local/lib/python3.7/dist-packages/ipykernel_launcher.py:6: ParserWarning: Falling back to the 'python' engine because the 'c' engine does not support regex separators (separators > 1 char and different from '\\s+' are interpreted as regex); you can avoid this warning by specifying engine='python'.\n",
            "  \n",
            "/usr/local/lib/python3.7/dist-packages/ipykernel_launcher.py:8: ParserWarning: Falling back to the 'python' engine because the 'c' engine does not support regex separators (separators > 1 char and different from '\\s+' are interpreted as regex); you can avoid this warning by specifying engine='python'.\n",
            "  \n"
          ],
          "name": "stderr"
        }
      ]
    },
    {
      "cell_type": "markdown",
      "metadata": {
        "id": "L0yCWxQxM3se"
      },
      "source": [
        "# 构建特征列，训练模型，导出embedding"
      ]
    },
    {
      "cell_type": "code",
      "metadata": {
        "id": "Rge7NsDZMLT7",
        "colab": {
          "base_uri": "https://localhost:8080/",
          "height": 206
        },
        "outputId": "8f76000d-94f7-4bba-d976-baee4c4425d7"
      },
      "source": [
        "data.head()"
      ],
      "execution_count": 5,
      "outputs": [
        {
          "output_type": "execute_result",
          "data": {
            "text/html": [
              "<div>\n",
              "<style scoped>\n",
              "    .dataframe tbody tr th:only-of-type {\n",
              "        vertical-align: middle;\n",
              "    }\n",
              "\n",
              "    .dataframe tbody tr th {\n",
              "        vertical-align: top;\n",
              "    }\n",
              "\n",
              "    .dataframe thead th {\n",
              "        text-align: right;\n",
              "    }\n",
              "</style>\n",
              "<table border=\"1\" class=\"dataframe\">\n",
              "  <thead>\n",
              "    <tr style=\"text-align: right;\">\n",
              "      <th></th>\n",
              "      <th>user_id</th>\n",
              "      <th>movie_id</th>\n",
              "      <th>rating</th>\n",
              "      <th>timestamp</th>\n",
              "      <th>title</th>\n",
              "      <th>genres</th>\n",
              "      <th>gender</th>\n",
              "      <th>age</th>\n",
              "      <th>occupation</th>\n",
              "      <th>zip</th>\n",
              "    </tr>\n",
              "  </thead>\n",
              "  <tbody>\n",
              "    <tr>\n",
              "      <th>0</th>\n",
              "      <td>1</td>\n",
              "      <td>1193</td>\n",
              "      <td>5</td>\n",
              "      <td>978300760</td>\n",
              "      <td>One Flew Over the Cuckoo's Nest (1975)</td>\n",
              "      <td>Drama</td>\n",
              "      <td>F</td>\n",
              "      <td>1</td>\n",
              "      <td>10</td>\n",
              "      <td>48067</td>\n",
              "    </tr>\n",
              "    <tr>\n",
              "      <th>1</th>\n",
              "      <td>1</td>\n",
              "      <td>661</td>\n",
              "      <td>3</td>\n",
              "      <td>978302109</td>\n",
              "      <td>James and the Giant Peach (1996)</td>\n",
              "      <td>Animation|Children's|Musical</td>\n",
              "      <td>F</td>\n",
              "      <td>1</td>\n",
              "      <td>10</td>\n",
              "      <td>48067</td>\n",
              "    </tr>\n",
              "    <tr>\n",
              "      <th>2</th>\n",
              "      <td>1</td>\n",
              "      <td>914</td>\n",
              "      <td>3</td>\n",
              "      <td>978301968</td>\n",
              "      <td>My Fair Lady (1964)</td>\n",
              "      <td>Musical|Romance</td>\n",
              "      <td>F</td>\n",
              "      <td>1</td>\n",
              "      <td>10</td>\n",
              "      <td>48067</td>\n",
              "    </tr>\n",
              "    <tr>\n",
              "      <th>3</th>\n",
              "      <td>1</td>\n",
              "      <td>3408</td>\n",
              "      <td>4</td>\n",
              "      <td>978300275</td>\n",
              "      <td>Erin Brockovich (2000)</td>\n",
              "      <td>Drama</td>\n",
              "      <td>F</td>\n",
              "      <td>1</td>\n",
              "      <td>10</td>\n",
              "      <td>48067</td>\n",
              "    </tr>\n",
              "    <tr>\n",
              "      <th>4</th>\n",
              "      <td>1</td>\n",
              "      <td>2355</td>\n",
              "      <td>5</td>\n",
              "      <td>978824291</td>\n",
              "      <td>Bug's Life, A (1998)</td>\n",
              "      <td>Animation|Children's|Comedy</td>\n",
              "      <td>F</td>\n",
              "      <td>1</td>\n",
              "      <td>10</td>\n",
              "      <td>48067</td>\n",
              "    </tr>\n",
              "  </tbody>\n",
              "</table>\n",
              "</div>"
            ],
            "text/plain": [
              "   user_id  movie_id  rating  timestamp  ... gender age occupation    zip\n",
              "0        1      1193       5  978300760  ...      F   1         10  48067\n",
              "1        1       661       3  978302109  ...      F   1         10  48067\n",
              "2        1       914       3  978301968  ...      F   1         10  48067\n",
              "3        1      3408       4  978300275  ...      F   1         10  48067\n",
              "4        1      2355       5  978824291  ...      F   1         10  48067\n",
              "\n",
              "[5 rows x 10 columns]"
            ]
          },
          "metadata": {
            "tags": []
          },
          "execution_count": 5
        }
      ]
    },
    {
      "cell_type": "code",
      "metadata": {
        "id": "9XNb0T65MMOC"
      },
      "source": [
        "#data = pd.read_csvdata = pd.read_csv(\"./movielens_sample.txt\")\n",
        "sparse_features = [\"movie_id\", \"user_id\",\n",
        "                    \"gender\", \"age\", \"occupation\", \"zip\", ]\n",
        "SEQ_LEN = 50\n",
        "negsample = 0\n",
        "\n",
        "# 1.Label Encoding for sparse features,and process sequence features with `gen_date_set` and `gen_model_input`\n",
        "\n",
        "features = ['user_id', 'movie_id', 'gender', 'age', 'occupation', 'zip']\n",
        "feature_max_idx = {}\n",
        "for feature in features:\n",
        "    lbe = LabelEncoder()\n",
        "    data[feature] = lbe.fit_transform(data[feature]) + 1\n",
        "    feature_max_idx[feature] = data[feature].max() + 1"
      ],
      "execution_count": 6,
      "outputs": []
    },
    {
      "cell_type": "code",
      "metadata": {
        "colab": {
          "base_uri": "https://localhost:8080/",
          "height": 206
        },
        "id": "eHooMFWO9aRW",
        "outputId": "b7a7e3fb-9e1b-4efc-8af9-be928ecfdc08"
      },
      "source": [
        "data.head()"
      ],
      "execution_count": 7,
      "outputs": [
        {
          "output_type": "execute_result",
          "data": {
            "text/html": [
              "<div>\n",
              "<style scoped>\n",
              "    .dataframe tbody tr th:only-of-type {\n",
              "        vertical-align: middle;\n",
              "    }\n",
              "\n",
              "    .dataframe tbody tr th {\n",
              "        vertical-align: top;\n",
              "    }\n",
              "\n",
              "    .dataframe thead th {\n",
              "        text-align: right;\n",
              "    }\n",
              "</style>\n",
              "<table border=\"1\" class=\"dataframe\">\n",
              "  <thead>\n",
              "    <tr style=\"text-align: right;\">\n",
              "      <th></th>\n",
              "      <th>user_id</th>\n",
              "      <th>movie_id</th>\n",
              "      <th>rating</th>\n",
              "      <th>timestamp</th>\n",
              "      <th>title</th>\n",
              "      <th>genres</th>\n",
              "      <th>gender</th>\n",
              "      <th>age</th>\n",
              "      <th>occupation</th>\n",
              "      <th>zip</th>\n",
              "    </tr>\n",
              "  </thead>\n",
              "  <tbody>\n",
              "    <tr>\n",
              "      <th>0</th>\n",
              "      <td>1</td>\n",
              "      <td>1105</td>\n",
              "      <td>5</td>\n",
              "      <td>978300760</td>\n",
              "      <td>One Flew Over the Cuckoo's Nest (1975)</td>\n",
              "      <td>Drama</td>\n",
              "      <td>1</td>\n",
              "      <td>1</td>\n",
              "      <td>11</td>\n",
              "      <td>1589</td>\n",
              "    </tr>\n",
              "    <tr>\n",
              "      <th>1</th>\n",
              "      <td>1</td>\n",
              "      <td>640</td>\n",
              "      <td>3</td>\n",
              "      <td>978302109</td>\n",
              "      <td>James and the Giant Peach (1996)</td>\n",
              "      <td>Animation|Children's|Musical</td>\n",
              "      <td>1</td>\n",
              "      <td>1</td>\n",
              "      <td>11</td>\n",
              "      <td>1589</td>\n",
              "    </tr>\n",
              "    <tr>\n",
              "      <th>2</th>\n",
              "      <td>1</td>\n",
              "      <td>854</td>\n",
              "      <td>3</td>\n",
              "      <td>978301968</td>\n",
              "      <td>My Fair Lady (1964)</td>\n",
              "      <td>Musical|Romance</td>\n",
              "      <td>1</td>\n",
              "      <td>1</td>\n",
              "      <td>11</td>\n",
              "      <td>1589</td>\n",
              "    </tr>\n",
              "    <tr>\n",
              "      <th>3</th>\n",
              "      <td>1</td>\n",
              "      <td>3178</td>\n",
              "      <td>4</td>\n",
              "      <td>978300275</td>\n",
              "      <td>Erin Brockovich (2000)</td>\n",
              "      <td>Drama</td>\n",
              "      <td>1</td>\n",
              "      <td>1</td>\n",
              "      <td>11</td>\n",
              "      <td>1589</td>\n",
              "    </tr>\n",
              "    <tr>\n",
              "      <th>4</th>\n",
              "      <td>1</td>\n",
              "      <td>2163</td>\n",
              "      <td>5</td>\n",
              "      <td>978824291</td>\n",
              "      <td>Bug's Life, A (1998)</td>\n",
              "      <td>Animation|Children's|Comedy</td>\n",
              "      <td>1</td>\n",
              "      <td>1</td>\n",
              "      <td>11</td>\n",
              "      <td>1589</td>\n",
              "    </tr>\n",
              "  </tbody>\n",
              "</table>\n",
              "</div>"
            ],
            "text/plain": [
              "   user_id  movie_id  rating  timestamp  ... gender age  occupation   zip\n",
              "0        1      1105       5  978300760  ...      1   1          11  1589\n",
              "1        1       640       3  978302109  ...      1   1          11  1589\n",
              "2        1       854       3  978301968  ...      1   1          11  1589\n",
              "3        1      3178       4  978300275  ...      1   1          11  1589\n",
              "4        1      2163       5  978824291  ...      1   1          11  1589\n",
              "\n",
              "[5 rows x 10 columns]"
            ]
          },
          "metadata": {
            "tags": []
          },
          "execution_count": 7
        }
      ]
    },
    {
      "cell_type": "code",
      "metadata": {
        "id": "rp4vrLi394Be"
      },
      "source": [
        "user_profile = data[[\"user_id\", \"gender\", \"age\", \"occupation\", \"zip\"]].drop_duplicates('user_id')\n",
        "\n",
        "item_profile = data[[\"movie_id\"]].drop_duplicates('movie_id')"
      ],
      "execution_count": 8,
      "outputs": []
    },
    {
      "cell_type": "code",
      "metadata": {
        "id": "QqfrMIdi98IN"
      },
      "source": [
        "user_profile.set_index(\"user_id\", inplace=True)"
      ],
      "execution_count": 9,
      "outputs": []
    },
    {
      "cell_type": "code",
      "metadata": {
        "colab": {
          "base_uri": "https://localhost:8080/",
          "height": 206
        },
        "id": "hWGt89LX-N1Z",
        "outputId": "11c719b5-4aaf-4b4c-b918-f49f634e5ce7"
      },
      "source": [
        "data.head()"
      ],
      "execution_count": 10,
      "outputs": [
        {
          "output_type": "execute_result",
          "data": {
            "text/html": [
              "<div>\n",
              "<style scoped>\n",
              "    .dataframe tbody tr th:only-of-type {\n",
              "        vertical-align: middle;\n",
              "    }\n",
              "\n",
              "    .dataframe tbody tr th {\n",
              "        vertical-align: top;\n",
              "    }\n",
              "\n",
              "    .dataframe thead th {\n",
              "        text-align: right;\n",
              "    }\n",
              "</style>\n",
              "<table border=\"1\" class=\"dataframe\">\n",
              "  <thead>\n",
              "    <tr style=\"text-align: right;\">\n",
              "      <th></th>\n",
              "      <th>user_id</th>\n",
              "      <th>movie_id</th>\n",
              "      <th>rating</th>\n",
              "      <th>timestamp</th>\n",
              "      <th>title</th>\n",
              "      <th>genres</th>\n",
              "      <th>gender</th>\n",
              "      <th>age</th>\n",
              "      <th>occupation</th>\n",
              "      <th>zip</th>\n",
              "    </tr>\n",
              "  </thead>\n",
              "  <tbody>\n",
              "    <tr>\n",
              "      <th>0</th>\n",
              "      <td>1</td>\n",
              "      <td>1105</td>\n",
              "      <td>5</td>\n",
              "      <td>978300760</td>\n",
              "      <td>One Flew Over the Cuckoo's Nest (1975)</td>\n",
              "      <td>Drama</td>\n",
              "      <td>1</td>\n",
              "      <td>1</td>\n",
              "      <td>11</td>\n",
              "      <td>1589</td>\n",
              "    </tr>\n",
              "    <tr>\n",
              "      <th>1</th>\n",
              "      <td>1</td>\n",
              "      <td>640</td>\n",
              "      <td>3</td>\n",
              "      <td>978302109</td>\n",
              "      <td>James and the Giant Peach (1996)</td>\n",
              "      <td>Animation|Children's|Musical</td>\n",
              "      <td>1</td>\n",
              "      <td>1</td>\n",
              "      <td>11</td>\n",
              "      <td>1589</td>\n",
              "    </tr>\n",
              "    <tr>\n",
              "      <th>2</th>\n",
              "      <td>1</td>\n",
              "      <td>854</td>\n",
              "      <td>3</td>\n",
              "      <td>978301968</td>\n",
              "      <td>My Fair Lady (1964)</td>\n",
              "      <td>Musical|Romance</td>\n",
              "      <td>1</td>\n",
              "      <td>1</td>\n",
              "      <td>11</td>\n",
              "      <td>1589</td>\n",
              "    </tr>\n",
              "    <tr>\n",
              "      <th>3</th>\n",
              "      <td>1</td>\n",
              "      <td>3178</td>\n",
              "      <td>4</td>\n",
              "      <td>978300275</td>\n",
              "      <td>Erin Brockovich (2000)</td>\n",
              "      <td>Drama</td>\n",
              "      <td>1</td>\n",
              "      <td>1</td>\n",
              "      <td>11</td>\n",
              "      <td>1589</td>\n",
              "    </tr>\n",
              "    <tr>\n",
              "      <th>4</th>\n",
              "      <td>1</td>\n",
              "      <td>2163</td>\n",
              "      <td>5</td>\n",
              "      <td>978824291</td>\n",
              "      <td>Bug's Life, A (1998)</td>\n",
              "      <td>Animation|Children's|Comedy</td>\n",
              "      <td>1</td>\n",
              "      <td>1</td>\n",
              "      <td>11</td>\n",
              "      <td>1589</td>\n",
              "    </tr>\n",
              "  </tbody>\n",
              "</table>\n",
              "</div>"
            ],
            "text/plain": [
              "   user_id  movie_id  rating  timestamp  ... gender age  occupation   zip\n",
              "0        1      1105       5  978300760  ...      1   1          11  1589\n",
              "1        1       640       3  978302109  ...      1   1          11  1589\n",
              "2        1       854       3  978301968  ...      1   1          11  1589\n",
              "3        1      3178       4  978300275  ...      1   1          11  1589\n",
              "4        1      2163       5  978824291  ...      1   1          11  1589\n",
              "\n",
              "[5 rows x 10 columns]"
            ]
          },
          "metadata": {
            "tags": []
          },
          "execution_count": 10
        }
      ]
    },
    {
      "cell_type": "code",
      "metadata": {
        "id": "86UOqvxM-a7G"
      },
      "source": [
        "user_item_list = data.groupby(\"user_id\")['movie_id'].apply(list)"
      ],
      "execution_count": 11,
      "outputs": []
    },
    {
      "cell_type": "code",
      "metadata": {
        "colab": {
          "base_uri": "https://localhost:8080/"
        },
        "id": "QuAxRUxI9ok8",
        "outputId": "da958fb8-124c-47ec-d6f2-7a1cdcee90ca"
      },
      "source": [
        "user_item_list[:10]"
      ],
      "execution_count": 12,
      "outputs": [
        {
          "output_type": "execute_result",
          "data": {
            "text/plain": [
              "user_id\n",
              "1     [1105, 640, 854, 3178, 2163, 1108, 1196, 2600,...\n",
              "2     [1105, 2890, 2129, 1783, 1118, 1849, 1155, 126...\n",
              "3     [2163, 1108, 1179, 1782, 254, 2899, 628, 1121,...\n",
              "4     [1026, 2489, 254, 1849, 3236, 1121, 467, 1107,...\n",
              "5     [3178, 2163, 859, 2890, 1575, 2558, 145, 2489,...\n",
              "6     [854, 3178, 582, 971, 2129, 48, 1440, 575, 1, ...\n",
              "7     [1179, 1849, 628, 2709, 3342, 2892, 1479, 3033...\n",
              "8     [2890, 514, 1575, 2970, 1659, 145, 1, 2489, 18...\n",
              "9     [3178, 2163, 690, 514, 1575, 709, 2103, 2558, ...\n",
              "10    [854, 3178, 2163, 1108, 1196, 2600, 581, 859, ...\n",
              "Name: movie_id, dtype: object"
            ]
          },
          "metadata": {
            "tags": []
          },
          "execution_count": 12
        }
      ]
    },
    {
      "cell_type": "code",
      "metadata": {
        "id": "Q7LaZ_1K_gfr",
        "colab": {
          "base_uri": "https://localhost:8080/"
        },
        "outputId": "bd82ea80-e980-442c-e2a4-534d08538807"
      },
      "source": [
        "for idx, (reviewerID, hist) in enumerate(data.groupby('user_id')):\n",
        "  if idx > 10:\n",
        "    break\n",
        "  print(hist)"
      ],
      "execution_count": 13,
      "outputs": [
        {
          "output_type": "stream",
          "text": [
            "    user_id  movie_id  rating  timestamp  ... gender age  occupation   zip\n",
            "0         1      1105       5  978300760  ...      1   1          11  1589\n",
            "1         1       640       3  978302109  ...      1   1          11  1589\n",
            "2         1       854       3  978301968  ...      1   1          11  1589\n",
            "3         1      3178       4  978300275  ...      1   1          11  1589\n",
            "4         1      2163       5  978824291  ...      1   1          11  1589\n",
            "5         1      1108       3  978302268  ...      1   1          11  1589\n",
            "6         1      1196       5  978302039  ...      1   1          11  1589\n",
            "7         1      2600       5  978300719  ...      1   1          11  1589\n",
            "8         1       581       4  978302268  ...      1   1          11  1589\n",
            "9         1       859       4  978301368  ...      1   1          11  1589\n",
            "10        1       582       5  978824268  ...      1   1          11  1589\n",
            "11        1       878       4  978301752  ...      1   1          11  1589\n",
            "12        1      2206       4  978302281  ...      1   1          11  1589\n",
            "13        1      2711       4  978302124  ...      1   1          11  1589\n",
            "14        1       971       5  978301753  ...      1   1          11  1589\n",
            "15        1      2587       4  978302188  ...      1   1          11  1589\n",
            "16        1      2484       3  978824268  ...      1   1          11  1589\n",
            "17        1      1839       4  978301777  ...      1   1          11  1589\n",
            "18        1      2890       5  978301713  ...      1   1          11  1589\n",
            "19        1      2593       4  978302039  ...      1   1          11  1589\n",
            "20        1      2129       3  978302205  ...      1   1          11  1589\n",
            "21        1       690       3  978300760  ...      1   1          11  1589\n",
            "22        1      1179       5  978300055  ...      1   1          11  1589\n",
            "23        1       514       5  978824195  ...      1   1          11  1589\n",
            "24        1      2148       3  978300103  ...      1   1          11  1589\n",
            "25        1        48       5  978824351  ...      1   1          11  1589\n",
            "26        1      1026       4  978301953  ...      1   1          11  1589\n",
            "27        1      1575       4  978300055  ...      1   1          11  1589\n",
            "28        1      1422       4  978824139  ...      1   1          11  1589\n",
            "29        1       709       3  978824268  ...      1   1          11  1589\n",
            "30        1      2103       4  978824291  ...      1   1          11  1589\n",
            "31        1      2970       4  978300019  ...      1   1          11  1589\n",
            "32        1      1440       4  978824330  ...      1   1          11  1589\n",
            "33        1       575       4  978824268  ...      1   1          11  1589\n",
            "34        1      1728       4  978824330  ...      1   1          11  1589\n",
            "35        1       741       4  978824291  ...      1   1          11  1589\n",
            "36        1      1659       5  978300172  ...      1   1          11  1589\n",
            "37        1       958       5  978300055  ...      1   1          11  1589\n",
            "38        1      2558       4  978302091  ...      1   1          11  1589\n",
            "39        1       145       5  978301777  ...      1   1          11  1589\n",
            "40        1         1       5  978824268  ...      1   1          11  1589\n",
            "41        1      1782       5  978301590  ...      1   1          11  1589\n",
            "42        1      1783       4  978301753  ...      1   1          11  1589\n",
            "43        1      2489       4  978301570  ...      1   1          11  1589\n",
            "44        1       254       4  978300760  ...      1   1          11  1589\n",
            "45        1       964       5  978301777  ...      1   1          11  1589\n",
            "46        1       965       5  978302205  ...      1   1          11  1589\n",
            "47        1      1118       4  978300719  ...      1   1          11  1589\n",
            "48        1      1849       5  978301619  ...      1   1          11  1589\n",
            "49        1       518       4  978302149  ...      1   1          11  1589\n",
            "50        1      2899       4  978302174  ...      1   1          11  1589\n",
            "51        1       594       4  978301398  ...      1   1          11  1589\n",
            "52        1      1155       4  978302091  ...      1   1          11  1589\n",
            "\n",
            "[53 rows x 10 columns]\n",
            "     user_id  movie_id  rating  timestamp  ... gender age  occupation   zip\n",
            "53         2      1105       5  978298413  ...      2   7          17  2249\n",
            "54         2      2890       4  978298673  ...      2   7          17  2249\n",
            "55         2      2129       3  978299666  ...      2   7          17  2249\n",
            "56         2      1783       5  978298813  ...      2   7          17  2249\n",
            "57         2      1118       4  978298478  ...      2   7          17  2249\n",
            "..       ...       ...     ...        ...  ...    ...  ..         ...   ...\n",
            "177        2      1153       3  978299143  ...      2   7          17  2249\n",
            "178        2       347       5  978299686  ...      2   7          17  2249\n",
            "179        2      1154       2  978299200  ...      2   7          17  2249\n",
            "180        2      3648       1  978299535  ...      2   7          17  2249\n",
            "181        2      1156       5  978298652  ...      2   7          17  2249\n",
            "\n",
            "[129 rows x 10 columns]\n",
            "        user_id  movie_id  rating  timestamp  ... gender age  occupation   zip\n",
            "699581        3      2163       5  978298430  ...      2   3          16  1864\n",
            "699582        3      1108       5  978297570  ...      2   3          16  1864\n",
            "699583        3      1179       3  978298231  ...      2   3          16  1864\n",
            "699584        3      1782       4  978297095  ...      2   3          16  1864\n",
            "699585        3       254       5  978297512  ...      2   3          16  1864\n",
            "699586        3      2899       3  978298103  ...      2   3          16  1864\n",
            "699587        3       628       3  978297867  ...      2   3          16  1864\n",
            "699588        3      1121       4  978297600  ...      2   3          16  1864\n",
            "699589        3      1168       5  978298296  ...      2   3          16  1864\n",
            "699590        3      2652       4  978297039  ...      2   3          16  1864\n",
            "699591        3       467       4  978297690  ...      2   3          16  1864\n",
            "699592        3      1174       2  978298316  ...      2   3          16  1864\n",
            "699593        3       577       4  978297439  ...      2   3          16  1864\n",
            "699594        3      1107       4  978297539  ...      2   3          16  1864\n",
            "699595        3      1109       5  978297570  ...      2   3          16  1864\n",
            "699596        3       580       3  978297018  ...      2   3          16  1864\n",
            "699597        3      1827       4  978297757  ...      2   3          16  1864\n",
            "699598        3      1789       4  978297068  ...      2   3          16  1864\n",
            "699599        3      3190       4  978298147  ...      2   3          16  1864\n",
            "699600        3      1505       2  978298430  ...      2   3          16  1864\n",
            "699601        3      1296       4  978298147  ...      2   3          16  1864\n",
            "699602        3      3302       3  978297068  ...      2   3          16  1864\n",
            "699603        3       102       4  978298486  ...      2   3          16  1864\n",
            "699604        3      2531       4  978297867  ...      2   3          16  1864\n",
            "699605        3      1328       3  978297095  ...      2   3          16  1864\n",
            "699606        3      3623       3  978298486  ...      2   3          16  1864\n",
            "699607        3      1008       5  978298296  ...      2   3          16  1864\n",
            "699608        3      2786       3  978298147  ...      2   3          16  1864\n",
            "699609        3      1484       5  978297710  ...      2   3          16  1864\n",
            "699610        3      1200       4  978297600  ...      2   3          16  1864\n",
            "699611        3       633       4  978297757  ...      2   3          16  1864\n",
            "699612        3      1987       5  978297600  ...      2   3          16  1864\n",
            "699613        3      1450       3  978297663  ...      2   3          16  1864\n",
            "699614        3      3380       2  978298201  ...      2   3          16  1864\n",
            "699615        3       983       4  978297805  ...      2   3          16  1864\n",
            "699616        3      1170       1  978297663  ...      2   3          16  1864\n",
            "699617        3       539       4  978297837  ...      2   3          16  1864\n",
            "699618        3      1175       5  978297396  ...      2   3          16  1864\n",
            "699619        3       700       5  978297757  ...      2   3          16  1864\n",
            "699620        3      1280       5  978297419  ...      2   3          16  1864\n",
            "699621        3      1281       4  978297419  ...      2   3          16  1864\n",
            "699622        3      3319       5  978298459  ...      2   3          16  1864\n",
            "699623        3      1213       5  978298166  ...      2   3          16  1864\n",
            "699624        3      2278       4  978297777  ...      2   3          16  1864\n",
            "699625        3      2953       4  978297570  ...      2   3          16  1864\n",
            "699626        3      2416       2  978297837  ...      2   3          16  1864\n",
            "699627        3      3430       5  978297419  ...      2   3          16  1864\n",
            "699628        3      2665       4  978297539  ...      2   3          16  1864\n",
            "699629        3      1935       4  978297777  ...      2   3          16  1864\n",
            "699630        3      1060       5  978298079  ...      2   3          16  1864\n",
            "699631        3      1901       4  978298504  ...      2   3          16  1864\n",
            "\n",
            "[51 rows x 10 columns]\n",
            "        user_id  movie_id  rating  timestamp  ... gender age  occupation  zip\n",
            "971158        4      1026       4  978293964  ...      2   5           8  141\n",
            "971159        4      2489       5  978294230  ...      2   5           8  141\n",
            "971160        4       254       5  978294199  ...      2   5           8  141\n",
            "971161        4      1849       5  978294230  ...      2   5           8  141\n",
            "971162        4      3236       5  978294008  ...      2   5           8  141\n",
            "971163        4      1121       3  978293924  ...      2   5           8  141\n",
            "971164        4       467       4  978294008  ...      2   5           8  141\n",
            "971165        4      1107       2  978294199  ...      2   5           8  141\n",
            "971166        4      1109       5  978294199  ...      2   5           8  141\n",
            "971167        4      1775       5  978294282  ...      2   5           8  141\n",
            "971168        4      3187       4  978294260  ...      2   5           8  141\n",
            "971169        4      2744       4  978294282  ...      2   5           8  141\n",
            "971170        4      1125       4  978294260  ...      2   5           8  141\n",
            "971171        4       972       4  978294282  ...      2   5           8  141\n",
            "971172        4      3461       4  978294260  ...      2   5           8  141\n",
            "971173        4      2174       4  978294230  ...      2   5           8  141\n",
            "971174        4      1289       5  978294199  ...      2   5           8  141\n",
            "971175        4      3295       1  978294008  ...      2   5           8  141\n",
            "971176        4      1112       5  978294230  ...      2   5           8  141\n",
            "971177        4      2740       5  978294230  ...      2   5           8  141\n",
            "971178        4      1149       5  978294260  ...      2   5           8  141\n",
            "\n",
            "[21 rows x 10 columns]\n",
            "        user_id  movie_id  rating  timestamp  ... gender age  occupation   zip\n",
            "599570        5      3178       3  978242323  ...      2   3          21  1939\n",
            "599571        5      2163       5  978241981  ...      2   3          21  1939\n",
            "599572        5       859       4  978241072  ...      2   3          21  1939\n",
            "599573        5      2890       2  978246576  ...      2   3          21  1939\n",
            "599574        5      1575       1  978245763  ...      2   3          21  1939\n",
            "...         ...       ...     ...        ...  ...    ...  ..         ...   ...\n",
            "599763        5      3544       3  978241981  ...      2   3          21  1939\n",
            "599764        5        34       4  978244603  ...      2   3          21  1939\n",
            "599765        5       348       2  978245829  ...      2   3          21  1939\n",
            "599766        5        36       3  978244808  ...      2   3          21  1939\n",
            "599767        5       684       4  978244493  ...      2   3          21  1939\n",
            "\n",
            "[198 rows x 10 columns]\n",
            "        user_id  movie_id  rating  timestamp  ... gender age  occupation   zip\n",
            "536422        6       854       5  978237767  ...      1   6          10  1864\n",
            "536423        6      3178       5  978238230  ...      1   6          10  1864\n",
            "536424        6       582       4  978237511  ...      1   6          10  1864\n",
            "536425        6       971       5  978237767  ...      1   6          10  1864\n",
            "536426        6      2129       3  978237034  ...      1   6          10  1864\n",
            "...         ...       ...     ...        ...  ...    ...  ..         ...   ...\n",
            "536488        6      1780       3  978236612  ...      1   6          10  1864\n",
            "536489        6      1282       5  978237691  ...      1   6          10  1864\n",
            "536490        6       556       4  978236876  ...      1   6          10  1864\n",
            "536491        6      1538       4  978236567  ...      1   6          10  1864\n",
            "536492        6      3329       4  978238288  ...      1   6          10  1864\n",
            "\n",
            "[71 rows x 10 columns]\n",
            "        user_id  movie_id  rating  timestamp  ... gender age  occupation  zip\n",
            "949345        7      1179       4  978234581  ...      2   4           2  295\n",
            "949346        7      1849       5  978234786  ...      2   4           2  295\n",
            "949347        7       628       4  978234737  ...      2   4           2  295\n",
            "949348        7      2709       5  978234842  ...      2   4           2  295\n",
            "949349        7      3342       3  978234737  ...      2   4           2  295\n",
            "949350        7      2892       3  978234898  ...      2   4           2  295\n",
            "949351        7      1479       5  978234786  ...      2   4           2  295\n",
            "949352        7      3033       5  978234874  ...      2   4           2  295\n",
            "949353        7       107       5  978234786  ...      2   4           2  295\n",
            "949354        7       576       5  978234786  ...      2   4           2  295\n",
            "949355        7       429       4  978234632  ...      2   4           2  295\n",
            "949356        7       467       4  978234607  ...      2   4           2  295\n",
            "949357        7      2161       5  978234874  ...      2   4           2  295\n",
            "949358        7      1107       5  978234632  ...      2   4           2  295\n",
            "949359        7      2375       5  978234786  ...      2   4           2  295\n",
            "949360        7       371       5  978234874  ...      2   4           2  295\n",
            "949361        7       340       5  978234874  ...      2   4           2  295\n",
            "949362        7       444       5  978234786  ...      2   4           2  295\n",
            "949363        7      3187       3  978234810  ...      2   4           2  295\n",
            "949364        7      1450       4  978234842  ...      2   4           2  295\n",
            "949365        7       700       5  978234842  ...      2   4           2  295\n",
            "949366        7      3551       3  978234737  ...      2   4           2  295\n",
            "949367        7         6       4  978234842  ...      2   4           2  295\n",
            "949368        7       368       3  978234810  ...      2   4           2  295\n",
            "949369        7      1576       4  978234874  ...      2   4           2  295\n",
            "949370        7      3511       4  978234737  ...      2   4           2  295\n",
            "949371        7       806       4  978234874  ...      2   4           2  295\n",
            "949372        7      1818       5  978234737  ...      2   4           2  295\n",
            "949373        7      1446       4  978234874  ...      2   4           2  295\n",
            "949374        7       461       5  978234842  ...      2   4           2  295\n",
            "949375        7      1132       4  978234659  ...      2   4           2  295\n",
            "\n",
            "[31 rows x 10 columns]\n",
            "        user_id  movie_id  rating  timestamp  ... gender age  occupation  zip\n",
            "934929        8      2890       4  978230666  ...      2   3          13  489\n",
            "934930        8       514       4  978229857  ...      2   3          13  489\n",
            "934931        8      1575       5  978230800  ...      2   3          13  489\n",
            "934932        8      2970       4  978230852  ...      2   3          13  489\n",
            "934933        8      1659       4  978231592  ...      2   3          13  489\n",
            "...         ...       ...     ...        ...  ...    ...  ..         ...  ...\n",
            "935063        8      1537       5  978230356  ...      2   3          13  489\n",
            "935064        8      1542       5  978230649  ...      2   3          13  489\n",
            "935065        8       963       4  978232203  ...      2   3          13  489\n",
            "935066        8      2495       5  978229347  ...      2   3          13  489\n",
            "935067        8       276       3  978231802  ...      2   3          13  489\n",
            "\n",
            "[139 rows x 10 columns]\n",
            "        user_id  movie_id  rating  timestamp  ... gender age  occupation   zip\n",
            "599768        9      3178       4  978225570  ...      2   3          18  2107\n",
            "599769        9      2163       4  978226054  ...      2   3          18  2107\n",
            "599770        9       690       4  978225898  ...      2   3          18  2107\n",
            "599771        9       514       5  978225303  ...      2   3          18  2107\n",
            "599772        9      1575       5  978226248  ...      2   3          18  2107\n",
            "...         ...       ...     ...        ...  ...    ...  ..         ...   ...\n",
            "599869        9      1143       3  978225303  ...      2   3          18  2107\n",
            "599870        9      1216       4  978225429  ...      2   3          18  2107\n",
            "599871        9      3047       3  978226448  ...      2   3          18  2107\n",
            "599872        9      1217       3  978226006  ...      2   3          18  2107\n",
            "599873        9       415       3  978226580  ...      2   3          18  2107\n",
            "\n",
            "[106 rows x 10 columns]\n",
            "        user_id  movie_id  rating  timestamp  ... gender age  occupation   zip\n",
            "536493       10       854       5  978226805  ...      1   4           2  3189\n",
            "536494       10      3178       4  978225070  ...      1   4           2  3189\n",
            "536495       10      2163       4  978226500  ...      1   4           2  3189\n",
            "536496       10      1108       5  979167660  ...      1   4           2  3189\n",
            "536497       10      1196       3  978227425  ...      1   4           2  3189\n",
            "...         ...       ...     ...        ...  ...    ...  ..         ...   ...\n",
            "536889       10      1863       5  978228989  ...      1   4           2  3189\n",
            "536890       10      1865       3  978228575  ...      1   4           2  3189\n",
            "536891       10      1866       4  978228966  ...      1   4           2  3189\n",
            "536892       10      1867       4  978229459  ...      1   4           2  3189\n",
            "536893       10      1869       5  978229624  ...      1   4           2  3189\n",
            "\n",
            "[401 rows x 10 columns]\n",
            "        user_id  movie_id  rating  timestamp  ... gender age  occupation  zip\n",
            "699632       11      2163       1  978902350  ...      1   3           2  225\n",
            "699633       11      1108       5  978903297  ...      1   3           2  225\n",
            "699634       11      2600       5  978902902  ...      1   3           2  225\n",
            "699635       11      2711       5  978903129  ...      1   3           2  225\n",
            "699636       11      2587       4  978903186  ...      1   3           2  225\n",
            "...         ...       ...     ...        ...  ...    ...  ..         ...  ...\n",
            "699764       11       468       5  978221260  ...      1   3           2  225\n",
            "699765       11      2345       4  978904142  ...      1   3           2  225\n",
            "699766       11      1529       2  978904327  ...      1   3           2  225\n",
            "699767       11      1926       3  978902560  ...      1   3           2  225\n",
            "699768       11       679       1  978902586  ...      1   3           2  225\n",
            "\n",
            "[137 rows x 10 columns]\n"
          ],
          "name": "stdout"
        }
      ]
    },
    {
      "cell_type": "code",
      "metadata": {
        "colab": {
          "base_uri": "https://localhost:8080/"
        },
        "id": "jFC9tCEJ-4uI",
        "outputId": "427c506e-110f-47e9-96e6-4d98a7eebe46"
      },
      "source": [
        "train_set, test_set = gen_data_set(data, negsample)\n",
        "\n",
        "train_model_input, train_label = gen_model_input(train_set, user_profile, SEQ_LEN)  #here equals to read data from csv directly\n",
        "test_model_input, test_label = gen_model_input(test_set, user_profile, SEQ_LEN)"
      ],
      "execution_count": 14,
      "outputs": [
        {
          "output_type": "stream",
          "text": [
            "100%|██████████| 6040/6040 [00:10<00:00, 575.25it/s] \n"
          ],
          "name": "stderr"
        },
        {
          "output_type": "stream",
          "text": [
            "6 6\n"
          ],
          "name": "stdout"
        }
      ]
    },
    {
      "cell_type": "code",
      "metadata": {
        "id": "BfTUXujF-5JG",
        "colab": {
          "base_uri": "https://localhost:8080/"
        },
        "outputId": "98064955-c87d-4248-d4cf-124f48f03a83"
      },
      "source": [
        "train_model_input"
      ],
      "execution_count": 15,
      "outputs": [
        {
          "output_type": "execute_result",
          "data": {
            "text/plain": [
              "{'age': array([5, 3, 3, ..., 4, 3, 6]),\n",
              " 'gender': array([1, 1, 2, ..., 2, 2, 2]),\n",
              " 'hist_len': array([ 91, 287, 277, ...,  47, 449,  25]),\n",
              " 'hist_movie_id': array([[1171, 1032, 1770, ..., 1128, 1762, 1163],\n",
              "        [1048, 1937,  964, ...,  994, 1092,   47],\n",
              "        [  93, 1598, 2219, ...,  167, 1196, 1834],\n",
              "        ...,\n",
              "        [1866, 1540, 2427, ...,    0,    0,    0],\n",
              "        [1215,   21,  348, ..., 1066,  576, 1652],\n",
              "        [ 175, 1706,   21, ...,    0,    0,    0]], dtype=int32),\n",
              " 'movie_id': array([1159, 2721,  155, ..., 1446,  538, 2309]),\n",
              " 'occupation': array([ 3,  5,  5, ...,  1,  3, 13]),\n",
              " 'user_id': array([1140, 4771, 4028, ..., 5523, 3683, 2174]),\n",
              " 'zip': array([2295,  227,  106, ..., 2037, 1109, 2697])}"
            ]
          },
          "metadata": {
            "tags": []
          },
          "execution_count": 15
        }
      ]
    },
    {
      "cell_type": "code",
      "metadata": {
        "colab": {
          "base_uri": "https://localhost:8080/"
        },
        "id": "ZAKI5U9O9whm",
        "outputId": "1759522a-42a9-4ec2-ffdc-afc357f53ee6"
      },
      "source": [
        "!nvidia-smi"
      ],
      "execution_count": 16,
      "outputs": [
        {
          "output_type": "stream",
          "text": [
            "Sun Jul  4 12:59:03 2021       \n",
            "+-----------------------------------------------------------------------------+\n",
            "| NVIDIA-SMI 465.27       Driver Version: 460.32.03    CUDA Version: 11.2     |\n",
            "|-------------------------------+----------------------+----------------------+\n",
            "| GPU  Name        Persistence-M| Bus-Id        Disp.A | Volatile Uncorr. ECC |\n",
            "| Fan  Temp  Perf  Pwr:Usage/Cap|         Memory-Usage | GPU-Util  Compute M. |\n",
            "|                               |                      |               MIG M. |\n",
            "|===============================+======================+======================|\n",
            "|   0  Tesla T4            Off  | 00000000:00:04.0 Off |                    0 |\n",
            "| N/A   48C    P8     9W /  70W |      0MiB / 15109MiB |      0%      Default |\n",
            "|                               |                      |                  N/A |\n",
            "+-------------------------------+----------------------+----------------------+\n",
            "                                                                               \n",
            "+-----------------------------------------------------------------------------+\n",
            "| Processes:                                                                  |\n",
            "|  GPU   GI   CI        PID   Type   Process name                  GPU Memory |\n",
            "|        ID   ID                                                   Usage      |\n",
            "|=============================================================================|\n",
            "|  No running processes found                                                 |\n",
            "+-----------------------------------------------------------------------------+\n"
          ],
          "name": "stdout"
        }
      ]
    },
    {
      "cell_type": "code",
      "metadata": {
        "id": "FDd1_dbfLbut"
      },
      "source": [
        "\n",
        "limit_idx = 100\n",
        "for key in train_model_input:\n",
        "  train_model_input[key] = train_model_input[key][:limit_idx]\n"
      ],
      "execution_count": 17,
      "outputs": []
    },
    {
      "cell_type": "code",
      "metadata": {
        "colab": {
          "base_uri": "https://localhost:8080/"
        },
        "id": "Dm0UgQK5PyyD",
        "outputId": "360b3a61-3ff7-4f70-c6e5-590b8a13f348"
      },
      "source": [
        "train_model_input['hist_movie_id'][0]"
      ],
      "execution_count": 18,
      "outputs": [
        {
          "output_type": "execute_result",
          "data": {
            "text/plain": [
              "array([1171, 1032, 1770, 3108, 3229,  528,  899, 2094,  861, 1141,  654,\n",
              "       2722,  241, 1101,  695,  254, 2204,  849, 1109, 1158, 1117, 2937,\n",
              "        288,  882,  859, 3133, 1114, 1156, 3652, 1769, 3509, 1033, 2977,\n",
              "       1203, 1013, 1185,  594, 1165, 3495, 1831, 1071,  866, 1251, 3085,\n",
              "        880, 2447, 2296, 1128, 1762, 1163], dtype=int32)"
            ]
          },
          "metadata": {
            "tags": []
          },
          "execution_count": 18
        }
      ]
    },
    {
      "cell_type": "code",
      "metadata": {
        "id": "dA9hF1Z6QaGf"
      },
      "source": [
        "idiot = \",\".join(list(map(lambda i: str(i), train_model_input['hist_movie_id'][0])))"
      ],
      "execution_count": 19,
      "outputs": []
    },
    {
      "cell_type": "code",
      "metadata": {
        "id": "MWIDgM_OPJGG"
      },
      "source": [
        "tmp_hist_movie_id = []\n",
        "for i in range(train_model_input['hist_movie_id'].shape[0]):\n",
        "  s_hist_movie_id = \",\".join(list(map(lambda i: str(i), train_model_input['hist_movie_id'][i])))\n",
        "  tmp_hist_movie_id.append(s_hist_movie_id)\n"
      ],
      "execution_count": 20,
      "outputs": []
    },
    {
      "cell_type": "code",
      "metadata": {
        "id": "_d_5l4BPQqSH"
      },
      "source": [
        "modified_train_model_input = dict(train_model_input)\n",
        "modified_train_model_input['hist_movie_id'] = tmp_hist_movie_id\n",
        "\n",
        "modified_train_model_input['label'] = [1] * len(modified_train_model_input['hist_movie_id'])\n",
        "\n",
        "df_train = pd.DataFrame.from_dict(modified_train_model_input)"
      ],
      "execution_count": 21,
      "outputs": []
    },
    {
      "cell_type": "code",
      "metadata": {
        "colab": {
          "base_uri": "https://localhost:8080/",
          "height": 206
        },
        "id": "JEQoUnzzLevJ",
        "outputId": "29c8e259-049a-4863-de90-83586c1ef4b6"
      },
      "source": [
        "df_train.head()"
      ],
      "execution_count": 22,
      "outputs": [
        {
          "output_type": "execute_result",
          "data": {
            "text/html": [
              "<div>\n",
              "<style scoped>\n",
              "    .dataframe tbody tr th:only-of-type {\n",
              "        vertical-align: middle;\n",
              "    }\n",
              "\n",
              "    .dataframe tbody tr th {\n",
              "        vertical-align: top;\n",
              "    }\n",
              "\n",
              "    .dataframe thead th {\n",
              "        text-align: right;\n",
              "    }\n",
              "</style>\n",
              "<table border=\"1\" class=\"dataframe\">\n",
              "  <thead>\n",
              "    <tr style=\"text-align: right;\">\n",
              "      <th></th>\n",
              "      <th>user_id</th>\n",
              "      <th>movie_id</th>\n",
              "      <th>hist_movie_id</th>\n",
              "      <th>hist_len</th>\n",
              "      <th>gender</th>\n",
              "      <th>age</th>\n",
              "      <th>occupation</th>\n",
              "      <th>zip</th>\n",
              "      <th>label</th>\n",
              "    </tr>\n",
              "  </thead>\n",
              "  <tbody>\n",
              "    <tr>\n",
              "      <th>0</th>\n",
              "      <td>1140</td>\n",
              "      <td>1159</td>\n",
              "      <td>1171,1032,1770,3108,3229,528,899,2094,861,1141...</td>\n",
              "      <td>91</td>\n",
              "      <td>1</td>\n",
              "      <td>5</td>\n",
              "      <td>3</td>\n",
              "      <td>2295</td>\n",
              "      <td>1</td>\n",
              "    </tr>\n",
              "    <tr>\n",
              "      <th>1</th>\n",
              "      <td>4771</td>\n",
              "      <td>2721</td>\n",
              "      <td>1048,1937,964,853,1776,1208,2132,2887,989,1501...</td>\n",
              "      <td>287</td>\n",
              "      <td>1</td>\n",
              "      <td>3</td>\n",
              "      <td>5</td>\n",
              "      <td>227</td>\n",
              "      <td>1</td>\n",
              "    </tr>\n",
              "    <tr>\n",
              "      <th>2</th>\n",
              "      <td>4028</td>\n",
              "      <td>155</td>\n",
              "      <td>93,1598,2219,1273,3597,421,3174,148,2175,168,1...</td>\n",
              "      <td>277</td>\n",
              "      <td>2</td>\n",
              "      <td>3</td>\n",
              "      <td>5</td>\n",
              "      <td>106</td>\n",
              "      <td>1</td>\n",
              "    </tr>\n",
              "    <tr>\n",
              "      <th>3</th>\n",
              "      <td>5534</td>\n",
              "      <td>880</td>\n",
              "      <td>1752,859,1109,254,1171,1107,1108,2898,2840,267...</td>\n",
              "      <td>31</td>\n",
              "      <td>2</td>\n",
              "      <td>5</td>\n",
              "      <td>17</td>\n",
              "      <td>1077</td>\n",
              "      <td>1</td>\n",
              "    </tr>\n",
              "    <tr>\n",
              "      <th>4</th>\n",
              "      <td>5208</td>\n",
              "      <td>107</td>\n",
              "      <td>2375,159,1595,2402,2776,2559,2471,2635,2498,29...</td>\n",
              "      <td>48</td>\n",
              "      <td>2</td>\n",
              "      <td>3</td>\n",
              "      <td>5</td>\n",
              "      <td>1939</td>\n",
              "      <td>1</td>\n",
              "    </tr>\n",
              "  </tbody>\n",
              "</table>\n",
              "</div>"
            ],
            "text/plain": [
              "   user_id  movie_id  ...   zip  label\n",
              "0     1140      1159  ...  2295      1\n",
              "1     4771      2721  ...   227      1\n",
              "2     4028       155  ...   106      1\n",
              "3     5534       880  ...  1077      1\n",
              "4     5208       107  ...  1939      1\n",
              "\n",
              "[5 rows x 9 columns]"
            ]
          },
          "metadata": {
            "tags": []
          },
          "execution_count": 22
        }
      ]
    },
    {
      "cell_type": "code",
      "metadata": {
        "id": "D9HVcR_IQ6F_"
      },
      "source": [
        "df_train.to_csv(\"./part_data\", sep='\\t', index=False)"
      ],
      "execution_count": 23,
      "outputs": []
    },
    {
      "cell_type": "code",
      "metadata": {
        "colab": {
          "base_uri": "https://localhost:8080/",
          "height": 206
        },
        "id": "Dz6LofrmAxBn",
        "outputId": "ba3aaf27-ab99-470d-ba4a-682861219971"
      },
      "source": [
        "data.head()"
      ],
      "execution_count": 24,
      "outputs": [
        {
          "output_type": "execute_result",
          "data": {
            "text/html": [
              "<div>\n",
              "<style scoped>\n",
              "    .dataframe tbody tr th:only-of-type {\n",
              "        vertical-align: middle;\n",
              "    }\n",
              "\n",
              "    .dataframe tbody tr th {\n",
              "        vertical-align: top;\n",
              "    }\n",
              "\n",
              "    .dataframe thead th {\n",
              "        text-align: right;\n",
              "    }\n",
              "</style>\n",
              "<table border=\"1\" class=\"dataframe\">\n",
              "  <thead>\n",
              "    <tr style=\"text-align: right;\">\n",
              "      <th></th>\n",
              "      <th>user_id</th>\n",
              "      <th>movie_id</th>\n",
              "      <th>rating</th>\n",
              "      <th>timestamp</th>\n",
              "      <th>title</th>\n",
              "      <th>genres</th>\n",
              "      <th>gender</th>\n",
              "      <th>age</th>\n",
              "      <th>occupation</th>\n",
              "      <th>zip</th>\n",
              "    </tr>\n",
              "  </thead>\n",
              "  <tbody>\n",
              "    <tr>\n",
              "      <th>456790</th>\n",
              "      <td>6040</td>\n",
              "      <td>803</td>\n",
              "      <td>4</td>\n",
              "      <td>956703932</td>\n",
              "      <td>Godfather, The (1972)</td>\n",
              "      <td>Action|Crime|Drama</td>\n",
              "      <td>2</td>\n",
              "      <td>3</td>\n",
              "      <td>7</td>\n",
              "      <td>467</td>\n",
              "    </tr>\n",
              "    <tr>\n",
              "      <th>456672</th>\n",
              "      <td>6040</td>\n",
              "      <td>580</td>\n",
              "      <td>5</td>\n",
              "      <td>956703954</td>\n",
              "      <td>Silence of the Lambs, The (1991)</td>\n",
              "      <td>Drama|Thriller</td>\n",
              "      <td>2</td>\n",
              "      <td>3</td>\n",
              "      <td>7</td>\n",
              "      <td>467</td>\n",
              "    </tr>\n",
              "    <tr>\n",
              "      <th>456732</th>\n",
              "      <td>6040</td>\n",
              "      <td>2192</td>\n",
              "      <td>4</td>\n",
              "      <td>956703954</td>\n",
              "      <td>Babe: Pig in the City (1998)</td>\n",
              "      <td>Children's|Comedy</td>\n",
              "      <td>2</td>\n",
              "      <td>3</td>\n",
              "      <td>7</td>\n",
              "      <td>467</td>\n",
              "    </tr>\n",
              "    <tr>\n",
              "      <th>456641</th>\n",
              "      <td>6040</td>\n",
              "      <td>1782</td>\n",
              "      <td>4</td>\n",
              "      <td>956703977</td>\n",
              "      <td>Rain Man (1988)</td>\n",
              "      <td>Drama</td>\n",
              "      <td>2</td>\n",
              "      <td>3</td>\n",
              "      <td>7</td>\n",
              "      <td>467</td>\n",
              "    </tr>\n",
              "    <tr>\n",
              "      <th>456842</th>\n",
              "      <td>6040</td>\n",
              "      <td>1840</td>\n",
              "      <td>5</td>\n",
              "      <td>956703977</td>\n",
              "      <td>Seven Samurai (The Magnificent Seven) (Shichin...</td>\n",
              "      <td>Action|Drama</td>\n",
              "      <td>2</td>\n",
              "      <td>3</td>\n",
              "      <td>7</td>\n",
              "      <td>467</td>\n",
              "    </tr>\n",
              "  </tbody>\n",
              "</table>\n",
              "</div>"
            ],
            "text/plain": [
              "        user_id  movie_id  rating  timestamp  ... gender age  occupation  zip\n",
              "456790     6040       803       4  956703932  ...      2   3           7  467\n",
              "456672     6040       580       5  956703954  ...      2   3           7  467\n",
              "456732     6040      2192       4  956703954  ...      2   3           7  467\n",
              "456641     6040      1782       4  956703977  ...      2   3           7  467\n",
              "456842     6040      1840       5  956703977  ...      2   3           7  467\n",
              "\n",
              "[5 rows x 10 columns]"
            ]
          },
          "metadata": {
            "tags": []
          },
          "execution_count": 24
        }
      ]
    },
    {
      "cell_type": "code",
      "metadata": {
        "id": "lAF61VQt_8lW"
      },
      "source": [
        "import tensorflow as tf\n",
        "from tensorflow import feature_column\n",
        "from tensorflow.keras import layers\n",
        "\n",
        "user_sparse_features = [\"user_id\", \"gender\", \"age\", \"occupation\", \"zip\", ]\n",
        "user_var_len_features = ['hist_movie_id']\n",
        "user_dense_features = []\n",
        "def build_feature_columns(sparse_features, dense_features, var_len_features):\n",
        "  #define feature colunmns here\n",
        "  normal_feature_columns = []\n",
        "  var_len_feature_columns = []\n",
        "  all_inputs = {}\n",
        "\n",
        "  # indicator_columns\n",
        "\n",
        "  for col_name in sparse_features:\n",
        "    categorical_column = tf.feature_column.categorical_column_with_identity(col_name, 20000, default_value=0) #fixed the value\n",
        "    indicato_embedding = feature_column.embedding_column(categorical_column, dimension=16)  #fix first, later change to configurable\n",
        "    normal_feature_columns.append(indicato_embedding)\n",
        "    categorical_input_col = tf.keras.Input(shape=(1,), name=col_name)\n",
        "    all_inputs[col_name] = categorical_input_col\n",
        "\n",
        "\n",
        "  # numeric cols\n",
        "  \n",
        "  for col_name in dense_features:\n",
        "    normal_feature_columns.append(feature_column.numeric_column(col_name))\n",
        "    numeric_input_col = tf.keras.Input(shape=(1,), name=col_name)\n",
        "    all_inputs[col_name] = numeric_input_col\n",
        "\n",
        "  \n",
        "  # var_len_features = []\n",
        "  for col_name in var_len_features:\n",
        "    seq_categorical_column = tf.feature_column.sequence_categorical_column_with_identity(\n",
        "        col_name, num_buckets=20000, default_value=0) #hist_movie_id is composed of movie_id\n",
        "    seq_categorical_embedding = tf.feature_column.embedding_column(seq_categorical_column, dimension=16)\n",
        "    var_len_feature_columns.append(seq_categorical_embedding)\n",
        "    var_len_input_col = tf.keras.Input(shape=(50,), name=col_name)  #fixed first\n",
        "    all_inputs[col_name] = var_len_input_col\n",
        "  return normal_feature_columns, var_len_feature_columns, all_inputs\n",
        "\n",
        "user_normal_feature_columns, user_var_len_feature_columns, user_all_inputs = build_feature_columns(user_sparse_features, user_dense_features, user_var_len_features)\n",
        "\n",
        "item_sparse_features = [\"movie_id\"]\n",
        "item_var_len_features = []\n",
        "item_dense_features = []\n",
        "item_normal_feature_columns, item_var_len_feature_columns, item_all_inputs = build_feature_columns(item_sparse_features, item_dense_features, item_var_len_features)\n"
      ],
      "execution_count": 25,
      "outputs": []
    },
    {
      "cell_type": "code",
      "metadata": {
        "id": "eYwFF4MbE3Ob"
      },
      "source": [
        "\n",
        "# A utility method to create a feature column\n",
        "# and to transform a batch of data\n",
        "def demo(feature_column):\n",
        "  feature_layer = layers.DenseFeatures(feature_column)\n",
        "  print(feature_layer(example_batch).numpy())\n",
        "def seq_demo(feature_column):\n",
        "  feature_layer = tf.keras.experimental.SequenceFeatures(feature_column)\n",
        "  sequence_input, sequence_length = feature_layer(example_batch)\n",
        "  sequence_length_mask = tf.sequence_mask(sequence_length)\n",
        "  print(sequence_input.numpy())"
      ],
      "execution_count": 26,
      "outputs": []
    },
    {
      "cell_type": "code",
      "metadata": {
        "id": "FLEa277Ed5jj"
      },
      "source": [
        ""
      ],
      "execution_count": 26,
      "outputs": []
    },
    {
      "cell_type": "code",
      "metadata": {
        "id": "veyV2_BdSsqH"
      },
      "source": [
        "\n",
        "train_ds = tf.data.experimental.make_csv_dataset(\n",
        "    './part_data', field_delim='\\t',\n",
        "    batch_size=4, # Artificially small to make examples easier to show.\n",
        "    label_name='label',\n",
        "    num_epochs=1,\n",
        "    ignore_errors=True,)\n"
      ],
      "execution_count": 27,
      "outputs": []
    },
    {
      "cell_type": "code",
      "metadata": {
        "id": "0iqPTZlBsWp3"
      },
      "source": [
        "@tf.function \n",
        "def string_to_tensor(s):\n",
        "  st = tf.strings.split(s, sep=',')\n",
        "  return tf.strings.to_number(st,out_type=tf.dtypes.int32).to_tensor()\n"
      ],
      "execution_count": 28,
      "outputs": []
    },
    {
      "cell_type": "code",
      "metadata": {
        "id": "_4r6OIjM6Hfj"
      },
      "source": [
        "class DNN(tf.keras.Model):\n",
        "  def __init__(self):\n",
        "    super().__init__()\n",
        "    \n",
        "    self.dense1 = tf.keras.layers.Dense(32, activation='relu')\n",
        "    self.dense2 = tf.keras.layers.Dense(16, activation=None)\n",
        "\n",
        "  @tf.function\n",
        "  def __call__(self, inputs, training=False):\n",
        "    x = self.dense1(inputs)\n",
        "    res = self.dense2(x)\n",
        "    return res\n",
        "\n",
        "class Basic(tf.keras.Model):\n",
        "  def __init__(self, user_normal_feature_columns, user_var_len_feature_columns, user_var_len_feature_keys,\n",
        "               item_normal_feature_columns, item_var_len_feature_columns, item_var_len_feature_keys):\n",
        "    super().__init__()\n",
        "    \n",
        "    self.preprocess_var_len = string_to_tensor\n",
        "    self.flatten_layer = tf.keras.layers.Flatten()\n",
        "    self.dense1 = tf.keras.layers.Dense(32, activation='relu')\n",
        "    self.dense2 = tf.keras.layers.Dense(1, activation='sigmoid')\n",
        "    self.user_normal_feature_columns = user_normal_feature_columns\n",
        "    self.user_var_len_feature_columns = user_var_len_feature_columns\n",
        "    self.user_var_len_feature_keys = user_var_len_feature_keys\n",
        "    self.user_feature_layer = tf.keras.layers.DenseFeatures(self.user_normal_feature_columns)\n",
        "    if user_var_len_feature_columns:\n",
        "      self.user_val_len_feature_layer = tf.keras.experimental.SequenceFeatures(self.user_var_len_feature_columns)\n",
        "    else:\n",
        "      self.user_val_len_feature_layer = None\n",
        "    self.item_normal_feature_columns = item_normal_feature_columns\n",
        "    self.item_var_len_feature_columns = item_var_len_feature_columns\n",
        "    self.item_var_len_feature_keys = item_var_len_feature_keys\n",
        "    self.item_feature_layer = tf.keras.layers.DenseFeatures(self.item_normal_feature_columns)\n",
        "    if item_var_len_feature_columns:\n",
        "      self.item_val_len_feature_layer = tf.keras.experimental.SequenceFeatures(self.item_var_len_feature_columns)\n",
        "    else:\n",
        "      self.item_val_len_feature_layer = None\n",
        "    self.user_model = DNN()\n",
        "    self.item_model = DNN()\n",
        "\n",
        "  @tf.function\n",
        "  def __call__(self, inputs, training=False):\n",
        "    user_all_features = self.process_features(inputs, feature_layer=self.user_feature_layer, val_len_feature_layer=self.user_val_len_feature_layer, \n",
        "                                              var_len_features=self.user_var_len_feature_keys,)\n",
        "    user_embedding = self.get_embedding(features=user_all_features, model=self.user_model)\n",
        "    item_all_features = self.process_features(inputs, feature_layer=self.item_feature_layer, val_len_feature_layer=self.item_val_len_feature_layer, \n",
        "                                              var_len_features=self.item_var_len_feature_keys,)\n",
        "    item_embedding = self.get_embedding(features=item_all_features, model=self.item_model)\n",
        "    user_embedding = user_embedding / tf.expand_dims(tf.sqrt(tf.reduce_sum(user_embedding ** 2, axis=-1)), axis=-1)\n",
        "    item_embedding = item_embedding / tf.expand_dims(tf.sqrt(tf.reduce_sum(item_embedding ** 2, axis=-1)), axis=-1)\n",
        "    res = tf.reduce_sum(user_embedding * item_embedding, axis=-1)\n",
        "    # return res\n",
        "    predicted_ctr = tf.math.sigmoid(res)\n",
        "    return predicted_ctr\n",
        "  \n",
        "  def process_features(self, inputs, feature_layer, val_len_feature_layer, var_len_features):\n",
        "    normal_features = feature_layer(inputs)\n",
        "    var_len_inputs = {}\n",
        "    for key in var_len_features:\n",
        "      var_len_inputs[key] = string_to_tensor(inputs[key])\n",
        "    if val_len_feature_layer:\n",
        "      sequence_features, sequence_length = val_len_feature_layer(var_len_inputs)\n",
        "      sequence_length_mask = tf.sequence_mask(sequence_length) \n",
        "      all_features = tf.keras.layers.concatenate([self.flatten_layer(normal_features), tf.math.reduce_mean(sequence_features, axis=1)])\n",
        "    else:\n",
        "      all_features = self.flatten_layer(normal_features)\n",
        "    return all_features\n",
        "\n",
        "  def get_embedding(self, features, model):\n",
        "    return model(features)\n",
        "\n",
        "  # def get_user_embedding(self, user_features):\n",
        "  #   return self.user_model(user_features)\n",
        "  \n",
        "  # def get_item_embedding(self, item_features):\n",
        "  #   return self.item_model(item_features)\n"
      ],
      "execution_count": 29,
      "outputs": []
    },
    {
      "cell_type": "code",
      "metadata": {
        "colab": {
          "base_uri": "https://localhost:8080/"
        },
        "id": "mq_5vKLF6fC4",
        "outputId": "116c35d4-d123-4df7-9607-dbd8e74dbf69"
      },
      "source": [
        "model = Basic(user_normal_feature_columns=user_normal_feature_columns, user_var_len_feature_columns=user_var_len_feature_columns, user_var_len_feature_keys=user_var_len_features,\n",
        "               item_normal_feature_columns=item_normal_feature_columns, item_var_len_feature_columns=item_var_len_feature_columns, item_var_len_feature_keys=item_var_len_features)    \n",
        "model.compile(optimizer='adam',\n",
        "              loss=tf.keras.losses.BinaryCrossentropy(),\n",
        "              )\n",
        "              # run_eagerly=True)\n",
        "              # metrics=[\"accuracy\"])\n",
        "              # metrics=[\"accuracy\"], run_eagerly=True)\n",
        "model.fit(train_ds, epochs=10)"
      ],
      "execution_count": 31,
      "outputs": [
        {
          "output_type": "stream",
          "text": [
            "Epoch 1/10\n",
            "25/25 [==============================] - 3s 18ms/step - loss: 0.5885\n",
            "Epoch 2/10\n",
            "25/25 [==============================] - 0s 17ms/step - loss: 0.4201\n",
            "Epoch 3/10\n",
            "25/25 [==============================] - 0s 17ms/step - loss: 0.3715\n",
            "Epoch 4/10\n",
            "25/25 [==============================] - 0s 17ms/step - loss: 0.3524\n",
            "Epoch 5/10\n",
            "25/25 [==============================] - 0s 15ms/step - loss: 0.3424\n",
            "Epoch 6/10\n",
            "25/25 [==============================] - 0s 17ms/step - loss: 0.3358\n",
            "Epoch 7/10\n",
            "25/25 [==============================] - 0s 17ms/step - loss: 0.3314\n",
            "Epoch 8/10\n",
            "25/25 [==============================] - 0s 16ms/step - loss: 0.3282\n",
            "Epoch 9/10\n",
            "25/25 [==============================] - 0s 17ms/step - loss: 0.3258\n",
            "Epoch 10/10\n",
            "25/25 [==============================] - 0s 16ms/step - loss: 0.3239\n"
          ],
          "name": "stdout"
        },
        {
          "output_type": "execute_result",
          "data": {
            "text/plain": [
              "<tensorflow.python.keras.callbacks.History at 0x7f1effda5690>"
            ]
          },
          "metadata": {
            "tags": []
          },
          "execution_count": 31
        }
      ]
    }
  ]
}